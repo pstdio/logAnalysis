{
 "cells": [
  {
   "cell_type": "code",
   "execution_count": 28,
   "metadata": {},
   "outputs": [
    {
     "name": "stdout",
     "output_type": "stream",
     "text": [
      "The mypy_ipython extension is already loaded. To reload it, use:\n",
      "  %reload_ext mypy_ipython\n",
      "    logs: str = \"\"\n",
      "error: Name \"logs\" already defined on line 28  [no-redef]\n",
      "    patternBreakLine: str = r'(<\\/br>)(\\d{4}-\\d{2}-\\d{\n",
      "error: Name \"patternBreakLine\" already defined on line 29  [no-redef]\n",
      "    patternBreakWord: str =r'(\\d{4}-\\d{2}-\\d{2}T\\d{2}:\n",
      "error: Name \"patternBreakWord\" already defined on line 30  [no-redef]\n",
      "    df: pd.DataFrame = pd.read_csv(StringIO(logs), hea\n",
      "error: Name \"df\" already defined on line 42  [no-redef]\n",
      "    levels: pd.DataFrame = df.groupby('level').size()\n",
      "error: Name \"levels\" already defined on line 44  [no-redef]\n",
      "    logs: str = \"\"\n",
      "error: Name \"logs\" already defined on line 28  [no-redef]\n",
      "    patternBreakLine: str = r'(<\\/br>)(\\d{4}-\\d{2}-\\d{\n",
      "error: Name \"patternBreakLine\" already defined on line 29  [no-redef]\n",
      "    patternBreakWord: str =r'(\\d{4}-\\d{2}-\\d{2}T\\d{2}:\n",
      "error: Name \"patternBreakWord\" already defined on line 30  [no-redef]\n",
      "    df: pd.DataFrame = pd.read_csv(StringIO(logs), hea\n",
      "error: Name \"df\" already defined on line 42  [no-redef]\n",
      "    levels: pd.DataFrame = df.groupby('level').size()\n",
      "error: Name \"levels\" already defined on line 44  [no-redef]\n",
      "    logs: str = \"\"\n",
      "error: Name \"logs\" already defined on line 28  [no-redef]\n",
      "    patternBreakLine: str = r'(<\\/br>)(\\d{4}-\\d{2}-\\d{\n",
      "error: Name \"patternBreakLine\" already defined on line 29  [no-redef]\n",
      "    patternBreakWord: str =r'(\\d{4}-\\d{2}-\\d{2}T\\d{2}:\n",
      "error: Name \"patternBreakWord\" already defined on line 30  [no-redef]\n",
      "    df: pd.DataFrame = pd.read_csv(StringIO(logs), hea\n",
      "error: Name \"df\" already defined on line 42  [no-redef]\n",
      "    levels: pd.DataFrame = df.groupby('level').size()\n",
      "error: Name \"levels\" already defined on line 44  [no-redef]\n",
      "    logs: str = \"\"\n",
      "error: Name \"logs\" already defined on line 28  [no-redef]\n",
      "    patternBreakLine: str = r'(<\\/br>)(\\d{4}-\\d{2}-\\d{\n",
      "error: Name \"patternBreakLine\" already defined on line 29  [no-redef]\n",
      "    patternBreakWord: str =r'(\\d{4}-\\d{2}-\\d{2}T\\d{2}:\n",
      "error: Name \"patternBreakWord\" already defined on line 30  [no-redef]\n",
      "    df: pd.DataFrame = pd.read_csv(StringIO(logs), hea\n",
      "error: Name \"df\" already defined on line 42  [no-redef]\n",
      "    levels: pd.DataFrame = df.groupby('level').size()\n",
      "error: Name \"levels\" already defined on line 44  [no-redef]\n",
      "Found 20 errors in 1 file (checked 1 source file)\n"
     ]
    },
    {
     "name": "stderr",
     "output_type": "stream",
     "text": [
      "Type checking failed\n"
     ]
    }
   ],
   "source": [
    "#configure project\n",
    "%load_ext mypy_ipython\n",
    "%mypy\n",
    "%matplotlib inline\n",
    "\n",
    "import pandas as pd\n",
    "from io import StringIO\n",
    "import matplotlib.pyplot as plt\n",
    "import numpy as np\n",
    "import re\n",
    "import os"
   ]
  },
  {
   "cell_type": "code",
   "execution_count": 29,
   "metadata": {},
   "outputs": [],
   "source": [
    "#prepare data\n",
    "logs: str = \"\"\n",
    "patternBreakLine: str = r'(<\\/br>)(\\d{4}-\\d{2}-\\d{2}T\\d{2}:\\d{2}:\\d{2}.\\d{3}\\+\\d{2}:\\d{2})'\n",
    "patternBreakWord: str =r'(\\d{4}-\\d{2}-\\d{2}T\\d{2}:\\d{2}:\\d{2}.\\d{3}\\+\\d{2}:\\d{2})( +)(\\w+)( +)(\\d+)( +)(---)( +)(\\[)(\\S+)(\\])( +)(\\S+)( +:)'\n",
    "\n",
    "with open('LogThrower/input.log') as input:\n",
    "    logs=input.read()\n",
    "\n",
    "logs = logs.replace('\\n', '</br>') #hacky thing to do, but this way is possible to preaty print data\n",
    "logs = logs.replace('\\\\','/') #prevents errors\n",
    "logs = logs.replace('\\t', '    ') #replaces tabs with spaces\n",
    "logs = logs.replace(',','@')\n",
    "logs = re.sub(patternBreakLine, r'\\n \\2', logs) #breaks file in lines\n",
    "logs = re.sub(patternBreakWord, r'\\1 , \\3 , \\5 , \\10, \\13', logs)"
   ]
  },
  {
   "cell_type": "code",
   "execution_count": 30,
   "metadata": {},
   "outputs": [],
   "source": [
    "#load data to pandas\n",
    "df: pd.DataFrame = pd.read_csv(StringIO(logs), header=None, names=['datetime', 'level', 'nun-1', 'nun-2', 'msg'])\n",
    "#nun stands for Nothin Usefull Now\n"
   ]
  },
  {
   "cell_type": "code",
   "execution_count": 31,
   "metadata": {},
   "outputs": [
    {
     "data": {
      "text/plain": [
       "<BarContainer object of 2 artists>"
      ]
     },
     "execution_count": 31,
     "metadata": {},
     "output_type": "execute_result"
    },
    {
     "data": {
      "image/png": "[encoded data removed]",
      "text/plain": [
       "<Figure size 640x480 with 1 Axes>"
      ]
     },
     "metadata": {},
     "output_type": "display_data"
    }
   ],
   "source": [
    "levels: pd.DataFrame = df.groupby('level').size()\n",
    "plt.title('levels')\n",
    "plt.bar(levels.axes[0], levels.values)"
   ]
  },
  {
   "cell_type": "code",
   "execution_count": 32,
   "metadata": {},
   "outputs": [
    {
     "data": {
      "text/html": [
       "<style type=\"text/css\">\n",
       "#T_5da2c_row0_col0, #T_5da2c_row0_col1, #T_5da2c_row0_col2, #T_5da2c_row0_col3, #T_5da2c_row0_col4, #T_5da2c_row1_col0, #T_5da2c_row1_col1, #T_5da2c_row1_col2, #T_5da2c_row1_col3, #T_5da2c_row1_col4, #T_5da2c_row2_col0, #T_5da2c_row2_col1, #T_5da2c_row2_col2, #T_5da2c_row2_col3, #T_5da2c_row2_col4, #T_5da2c_row3_col0, #T_5da2c_row3_col1, #T_5da2c_row3_col2, #T_5da2c_row3_col3, #T_5da2c_row3_col4, #T_5da2c_row4_col0, #T_5da2c_row4_col1, #T_5da2c_row4_col2, #T_5da2c_row4_col3, #T_5da2c_row4_col4, #T_5da2c_row5_col0, #T_5da2c_row5_col1, #T_5da2c_row5_col2, #T_5da2c_row5_col3, #T_5da2c_row5_col4, #T_5da2c_row6_col0, #T_5da2c_row6_col1, #T_5da2c_row6_col2, #T_5da2c_row6_col3, #T_5da2c_row6_col4, #T_5da2c_row7_col0, #T_5da2c_row7_col1, #T_5da2c_row7_col2, #T_5da2c_row7_col3, #T_5da2c_row7_col4, #T_5da2c_row8_col0, #T_5da2c_row8_col1, #T_5da2c_row8_col2, #T_5da2c_row8_col3, #T_5da2c_row8_col4, #T_5da2c_row9_col0, #T_5da2c_row9_col1, #T_5da2c_row9_col2, #T_5da2c_row9_col3, #T_5da2c_row9_col4, #T_5da2c_row10_col0, #T_5da2c_row10_col1, #T_5da2c_row10_col2, #T_5da2c_row10_col3, #T_5da2c_row10_col4, #T_5da2c_row11_col0, #T_5da2c_row11_col1, #T_5da2c_row11_col2, #T_5da2c_row11_col3, #T_5da2c_row11_col4, #T_5da2c_row12_col0, #T_5da2c_row12_col1, #T_5da2c_row12_col2, #T_5da2c_row12_col3, #T_5da2c_row12_col4, #T_5da2c_row13_col0, #T_5da2c_row13_col1, #T_5da2c_row13_col2, #T_5da2c_row13_col3, #T_5da2c_row13_col4, #T_5da2c_row14_col0, #T_5da2c_row14_col1, #T_5da2c_row14_col2, #T_5da2c_row14_col3, #T_5da2c_row14_col4 {\n",
       "  text-align: left;\n",
       "}\n",
       "</style>\n",
       "<table id=\"T_5da2c\">\n",
       "  <thead>\n",
       "    <tr>\n",
       "      <th class=\"blank level0\" >&nbsp;</th>\n",
       "      <th id=\"T_5da2c_level0_col0\" class=\"col_heading level0 col0\" >datetime</th>\n",
       "      <th id=\"T_5da2c_level0_col1\" class=\"col_heading level0 col1\" >level</th>\n",
       "      <th id=\"T_5da2c_level0_col2\" class=\"col_heading level0 col2\" >nun-1</th>\n",
       "      <th id=\"T_5da2c_level0_col3\" class=\"col_heading level0 col3\" >nun-2</th>\n",
       "      <th id=\"T_5da2c_level0_col4\" class=\"col_heading level0 col4\" >msg</th>\n",
       "    </tr>\n",
       "  </thead>\n",
       "  <tbody>\n",
       "    <tr>\n",
       "      <th id=\"T_5da2c_level0_row0\" class=\"row_heading level0 row0\" >0</th>\n",
       "      <td id=\"T_5da2c_row0_col0\" class=\"data row0 col0\" >2022-11-21T15:50:31.394+01:00 </td>\n",
       "      <td id=\"T_5da2c_row0_col1\" class=\"data row0 col1\" > INFO </td>\n",
       "      <td id=\"T_5da2c_row0_col2\" class=\"data row0 col2\" >1578</td>\n",
       "      <td id=\"T_5da2c_row0_col3\" class=\"data row0 col3\" > main</td>\n",
       "      <td id=\"T_5da2c_row0_col4\" class=\"data row0 col4\" > e.p.LogThrower.LogThrowerApplication Starting LogThrowerApplication using Java 19.0.1 with PID 1578 (/Users/mbogudal/Dev/Woodenhand/Code/LogAnalysis/LogThrower/target/classes started by mbogudal in /Users/mbogudal/Dev/Woodenhand/Code/LogAnalysis/LogThrower)</td>\n",
       "    </tr>\n",
       "    <tr>\n",
       "      <th id=\"T_5da2c_level0_row1\" class=\"row_heading level0 row1\" >1</th>\n",
       "      <td id=\"T_5da2c_row1_col0\" class=\"data row1 col0\" > 2022-11-21T15:50:31.396+01:00 </td>\n",
       "      <td id=\"T_5da2c_row1_col1\" class=\"data row1 col1\" > INFO </td>\n",
       "      <td id=\"T_5da2c_row1_col2\" class=\"data row1 col2\" >1578</td>\n",
       "      <td id=\"T_5da2c_row1_col3\" class=\"data row1 col3\" > main</td>\n",
       "      <td id=\"T_5da2c_row1_col4\" class=\"data row1 col4\" > e.p.LogThrower.LogThrowerApplication No active profile set@ falling back to 1 default profile: \"default\"</td>\n",
       "    </tr>\n",
       "    <tr>\n",
       "      <th id=\"T_5da2c_level0_row2\" class=\"row_heading level0 row2\" >2</th>\n",
       "      <td id=\"T_5da2c_row2_col0\" class=\"data row2 col0\" > 2022-11-21T15:50:31.730+01:00 </td>\n",
       "      <td id=\"T_5da2c_row2_col1\" class=\"data row2 col1\" > INFO </td>\n",
       "      <td id=\"T_5da2c_row2_col2\" class=\"data row2 col2\" >1578</td>\n",
       "      <td id=\"T_5da2c_row2_col3\" class=\"data row2 col3\" > main</td>\n",
       "      <td id=\"T_5da2c_row2_col4\" class=\"data row2 col4\" > o.s.b.w.embedded.tomcat.TomcatWebServer Tomcat initialized with port(s): 8080 (http)</td>\n",
       "    </tr>\n",
       "    <tr>\n",
       "      <th id=\"T_5da2c_level0_row3\" class=\"row_heading level0 row3\" >3</th>\n",
       "      <td id=\"T_5da2c_row3_col0\" class=\"data row3 col0\" > 2022-11-21T15:50:31.734+01:00 </td>\n",
       "      <td id=\"T_5da2c_row3_col1\" class=\"data row3 col1\" > INFO </td>\n",
       "      <td id=\"T_5da2c_row3_col2\" class=\"data row3 col2\" >1578</td>\n",
       "      <td id=\"T_5da2c_row3_col3\" class=\"data row3 col3\" > main</td>\n",
       "      <td id=\"T_5da2c_row3_col4\" class=\"data row3 col4\" > o.apache.catalina.core.StandardService Starting service [Tomcat]</td>\n",
       "    </tr>\n",
       "    <tr>\n",
       "      <th id=\"T_5da2c_level0_row4\" class=\"row_heading level0 row4\" >4</th>\n",
       "      <td id=\"T_5da2c_row4_col0\" class=\"data row4 col0\" > 2022-11-21T15:50:31.734+01:00 </td>\n",
       "      <td id=\"T_5da2c_row4_col1\" class=\"data row4 col1\" > INFO </td>\n",
       "      <td id=\"T_5da2c_row4_col2\" class=\"data row4 col2\" >1578</td>\n",
       "      <td id=\"T_5da2c_row4_col3\" class=\"data row4 col3\" > main</td>\n",
       "      <td id=\"T_5da2c_row4_col4\" class=\"data row4 col4\" > o.apache.catalina.core.StandardEngine Starting Servlet engine: [Apache Tomcat/10.1.1]</td>\n",
       "    </tr>\n",
       "    <tr>\n",
       "      <th id=\"T_5da2c_level0_row5\" class=\"row_heading level0 row5\" >5</th>\n",
       "      <td id=\"T_5da2c_row5_col0\" class=\"data row5 col0\" > 2022-11-21T15:50:31.763+01:00 </td>\n",
       "      <td id=\"T_5da2c_row5_col1\" class=\"data row5 col1\" > INFO </td>\n",
       "      <td id=\"T_5da2c_row5_col2\" class=\"data row5 col2\" >1578</td>\n",
       "      <td id=\"T_5da2c_row5_col3\" class=\"data row5 col3\" > main</td>\n",
       "      <td id=\"T_5da2c_row5_col4\" class=\"data row5 col4\" > o.a.c.c.C.[Tomcat].[localhost].[/] Initializing Spring embedded WebApplicationContext</td>\n",
       "    </tr>\n",
       "    <tr>\n",
       "      <th id=\"T_5da2c_level0_row6\" class=\"row_heading level0 row6\" >6</th>\n",
       "      <td id=\"T_5da2c_row6_col0\" class=\"data row6 col0\" > 2022-11-21T15:50:31.764+01:00 </td>\n",
       "      <td id=\"T_5da2c_row6_col1\" class=\"data row6 col1\" > INFO </td>\n",
       "      <td id=\"T_5da2c_row6_col2\" class=\"data row6 col2\" >1578</td>\n",
       "      <td id=\"T_5da2c_row6_col3\" class=\"data row6 col3\" > main</td>\n",
       "      <td id=\"T_5da2c_row6_col4\" class=\"data row6 col4\" > w.s.c.ServletWebServerApplicationContext Root WebApplicationContext: initialization completed in 340 ms</td>\n",
       "    </tr>\n",
       "    <tr>\n",
       "      <th id=\"T_5da2c_level0_row7\" class=\"row_heading level0 row7\" >7</th>\n",
       "      <td id=\"T_5da2c_row7_col0\" class=\"data row7 col0\" > 2022-11-21T15:50:31.882+01:00 </td>\n",
       "      <td id=\"T_5da2c_row7_col1\" class=\"data row7 col1\" > INFO </td>\n",
       "      <td id=\"T_5da2c_row7_col2\" class=\"data row7 col2\" >1578</td>\n",
       "      <td id=\"T_5da2c_row7_col3\" class=\"data row7 col3\" > main</td>\n",
       "      <td id=\"T_5da2c_row7_col4\" class=\"data row7 col4\" > o.s.b.w.embedded.tomcat.TomcatWebServer Tomcat started on port(s): 8080 (http) with context path ''</td>\n",
       "    </tr>\n",
       "    <tr>\n",
       "      <th id=\"T_5da2c_level0_row8\" class=\"row_heading level0 row8\" >8</th>\n",
       "      <td id=\"T_5da2c_row8_col0\" class=\"data row8 col0\" > 2022-11-21T15:50:31.887+01:00 </td>\n",
       "      <td id=\"T_5da2c_row8_col1\" class=\"data row8 col1\" > INFO </td>\n",
       "      <td id=\"T_5da2c_row8_col2\" class=\"data row8 col2\" >1578</td>\n",
       "      <td id=\"T_5da2c_row8_col3\" class=\"data row8 col3\" > main</td>\n",
       "      <td id=\"T_5da2c_row8_col4\" class=\"data row8 col4\" > e.p.LogThrower.LogThrowerApplication Started LogThrowerApplication in 0.689 seconds (process running for 0.846)</td>\n",
       "    </tr>\n",
       "    <tr>\n",
       "      <th id=\"T_5da2c_level0_row9\" class=\"row_heading level0 row9\" >9</th>\n",
       "      <td id=\"T_5da2c_row9_col0\" class=\"data row9 col0\" > 2022-11-21T15:51:05.067+01:00 </td>\n",
       "      <td id=\"T_5da2c_row9_col1\" class=\"data row9 col1\" > INFO </td>\n",
       "      <td id=\"T_5da2c_row9_col2\" class=\"data row9 col2\" >1578</td>\n",
       "      <td id=\"T_5da2c_row9_col3\" class=\"data row9 col3\" > http-nio-8080-exec-1</td>\n",
       "      <td id=\"T_5da2c_row9_col4\" class=\"data row9 col4\" > o.a.c.c.C.[Tomcat].[localhost].[/] Initializing Spring DispatcherServlet 'dispatcherServlet'</td>\n",
       "    </tr>\n",
       "    <tr>\n",
       "      <th id=\"T_5da2c_level0_row10\" class=\"row_heading level0 row10\" >10</th>\n",
       "      <td id=\"T_5da2c_row10_col0\" class=\"data row10 col0\" > 2022-11-21T15:51:05.068+01:00 </td>\n",
       "      <td id=\"T_5da2c_row10_col1\" class=\"data row10 col1\" > INFO </td>\n",
       "      <td id=\"T_5da2c_row10_col2\" class=\"data row10 col2\" >1578</td>\n",
       "      <td id=\"T_5da2c_row10_col3\" class=\"data row10 col3\" > http-nio-8080-exec-1</td>\n",
       "      <td id=\"T_5da2c_row10_col4\" class=\"data row10 col4\" > o.s.web.servlet.DispatcherServlet Initializing Servlet 'dispatcherServlet'</td>\n",
       "    </tr>\n",
       "    <tr>\n",
       "      <th id=\"T_5da2c_level0_row11\" class=\"row_heading level0 row11\" >11</th>\n",
       "      <td id=\"T_5da2c_row11_col0\" class=\"data row11 col0\" > 2022-11-21T15:51:05.069+01:00 </td>\n",
       "      <td id=\"T_5da2c_row11_col1\" class=\"data row11 col1\" > INFO </td>\n",
       "      <td id=\"T_5da2c_row11_col2\" class=\"data row11 col2\" >1578</td>\n",
       "      <td id=\"T_5da2c_row11_col3\" class=\"data row11 col3\" > http-nio-8080-exec-1</td>\n",
       "      <td id=\"T_5da2c_row11_col4\" class=\"data row11 col4\" > o.s.web.servlet.DispatcherServlet Completed initialization in 1 ms</td>\n",
       "    </tr>\n",
       "    <tr>\n",
       "      <th id=\"T_5da2c_level0_row12\" class=\"row_heading level0 row12\" >12</th>\n",
       "      <td id=\"T_5da2c_row12_col0\" class=\"data row12 col0\" > 2022-11-21T15:51:05.079+01:00 </td>\n",
       "      <td id=\"T_5da2c_row12_col1\" class=\"data row12 col1\" > INFO </td>\n",
       "      <td id=\"T_5da2c_row12_col2\" class=\"data row12 col2\" >1578</td>\n",
       "      <td id=\"T_5da2c_row12_col3\" class=\"data row12 col3\" > http-nio-8080-exec-1</td>\n",
       "      <td id=\"T_5da2c_row12_col4\" class=\"data row12 col4\" > e.p.L.p.controller.TestController test no 1</td>\n",
       "    </tr>\n",
       "    <tr>\n",
       "      <th id=\"T_5da2c_level0_row13\" class=\"row_heading level0 row13\" >13</th>\n",
       "      <td id=\"T_5da2c_row13_col0\" class=\"data row13 col0\" > 2022-11-21T15:51:05.079+01:00 </td>\n",
       "      <td id=\"T_5da2c_row13_col1\" class=\"data row13 col1\" > ERROR </td>\n",
       "      <td id=\"T_5da2c_row13_col2\" class=\"data row13 col2\" >1578</td>\n",
       "      <td id=\"T_5da2c_row13_col3\" class=\"data row13 col3\" > http-nio-8080-exec-1</td>\n",
       "      <td id=\"T_5da2c_row13_col4\" class=\"data row13 col4\" > e.p.L.p.controller.TestController test no 3</td>\n",
       "    </tr>\n",
       "    <tr>\n",
       "      <th id=\"T_5da2c_level0_row14\" class=\"row_heading level0 row14\" >14</th>\n",
       "      <td id=\"T_5da2c_row14_col0\" class=\"data row14 col0\" > 2022-11-21T15:51:05.080+01:00 </td>\n",
       "      <td id=\"T_5da2c_row14_col1\" class=\"data row14 col1\" > ERROR </td>\n",
       "      <td id=\"T_5da2c_row14_col2\" class=\"data row14 col2\" >1578</td>\n",
       "      <td id=\"T_5da2c_row14_col3\" class=\"data row14 col3\" > http-nio-8080-exec-1</td>\n",
       "      <td id=\"T_5da2c_row14_col4\" class=\"data row14 col4\" > o.a.c.c.C.[.[.[/].[dispatcherServlet] Servlet.service() for servlet [dispatcherServlet] in context with path [] threw exception [Request processing failed: java.lang.UnsupportedOperationException] with root cause</br></br>java.lang.UnsupportedOperationException: null</br>    at eu.pstdio.LogThrower.presentation.controller.TestController.test(TestController.java:18) ~[classes/:na]</br>    at java.base/jdk.internal.reflect.DirectMethodHandleAccessor.invoke(DirectMethodHandleAccessor.java:104) ~[na:na]</br>    at java.base/java.lang.reflect.Method.invoke(Method.java:578) ~[na:na]</br>    at org.springframework.web.method.support.InvocableHandlerMethod.doInvoke(InvocableHandlerMethod.java:207) ~[spring-web-6.0.0.jar:6.0.0]</br>    at org.springframework.web.method.support.InvocableHandlerMethod.invokeForRequest(InvocableHandlerMethod.java:152) ~[spring-web-6.0.0.jar:6.0.0]</br>    at org.springframework.web.servlet.mvc.method.annotation.ServletInvocableHandlerMethod.invokeAndHandle(ServletInvocableHandlerMethod.java:117) ~[spring-webmvc-6.0.0.jar:6.0.0]</br>    at org.springframework.web.servlet.mvc.method.annotation.RequestMappingHandlerAdapter.invokeHandlerMethod(RequestMappingHandlerAdapter.java:891) ~[spring-webmvc-6.0.0.jar:6.0.0]</br>    at org.springframework.web.servlet.mvc.method.annotation.RequestMappingHandlerAdapter.handleInternal(RequestMappingHandlerAdapter.java:804) ~[spring-webmvc-6.0.0.jar:6.0.0]</br>    at org.springframework.web.servlet.mvc.method.AbstractHandlerMethodAdapter.handle(AbstractHandlerMethodAdapter.java:87) ~[spring-webmvc-6.0.0.jar:6.0.0]</br>    at org.springframework.web.servlet.DispatcherServlet.doDispatch(DispatcherServlet.java:1080) ~[spring-webmvc-6.0.0.jar:6.0.0]</br>    at org.springframework.web.servlet.DispatcherServlet.doService(DispatcherServlet.java:973) ~[spring-webmvc-6.0.0.jar:6.0.0]</br>    at org.springframework.web.servlet.FrameworkServlet.processRequest(FrameworkServlet.java:1003) ~[spring-webmvc-6.0.0.jar:6.0.0]</br>    at org.springframework.web.servlet.FrameworkServlet.doGet(FrameworkServlet.java:895) ~[spring-webmvc-6.0.0.jar:6.0.0]</br>    at jakarta.servlet.http.HttpServlet.service(HttpServlet.java:705) ~[tomcat-embed-core-10.1.1.jar:6.0]</br>    at org.springframework.web.servlet.FrameworkServlet.service(FrameworkServlet.java:880) ~[spring-webmvc-6.0.0.jar:6.0.0]</br>    at jakarta.servlet.http.HttpServlet.service(HttpServlet.java:814) ~[tomcat-embed-core-10.1.1.jar:6.0]</br>    at org.apache.catalina.core.ApplicationFilterChain.internalDoFilter(ApplicationFilterChain.java:223) ~[tomcat-embed-core-10.1.1.jar:10.1.1]</br>    at org.apache.catalina.core.ApplicationFilterChain.doFilter(ApplicationFilterChain.java:158) ~[tomcat-embed-core-10.1.1.jar:10.1.1]</br>    at org.apache.tomcat.websocket.server.WsFilter.doFilter(WsFilter.java:53) ~[tomcat-embed-websocket-10.1.1.jar:10.1.1]</br>    at org.apache.catalina.core.ApplicationFilterChain.internalDoFilter(ApplicationFilterChain.java:185) ~[tomcat-embed-core-10.1.1.jar:10.1.1]</br>    at org.apache.catalina.core.ApplicationFilterChain.doFilter(ApplicationFilterChain.java:158) ~[tomcat-embed-core-10.1.1.jar:10.1.1]</br>    at org.springframework.web.filter.RequestContextFilter.doFilterInternal(RequestContextFilter.java:100) ~[spring-web-6.0.0.jar:6.0.0]</br>    at org.springframework.web.filter.OncePerRequestFilter.doFilter(OncePerRequestFilter.java:116) ~[spring-web-6.0.0.jar:6.0.0]</br>    at org.apache.catalina.core.ApplicationFilterChain.internalDoFilter(ApplicationFilterChain.java:185) ~[tomcat-embed-core-10.1.1.jar:10.1.1]</br>    at org.apache.catalina.core.ApplicationFilterChain.doFilter(ApplicationFilterChain.java:158) ~[tomcat-embed-core-10.1.1.jar:10.1.1]</br>    at org.springframework.web.filter.FormContentFilter.doFilterInternal(FormContentFilter.java:93) ~[spring-web-6.0.0.jar:6.0.0]</br>    at org.springframework.web.filter.OncePerRequestFilter.doFilter(OncePerRequestFilter.java:116) ~[spring-web-6.0.0.jar:6.0.0]</br>    at org.apache.catalina.core.ApplicationFilterChain.internalDoFilter(ApplicationFilterChain.java:185) ~[tomcat-embed-core-10.1.1.jar:10.1.1]</br>    at org.apache.catalina.core.ApplicationFilterChain.doFilter(ApplicationFilterChain.java:158) ~[tomcat-embed-core-10.1.1.jar:10.1.1]</br>    at org.springframework.web.filter.CharacterEncodingFilter.doFilterInternal(CharacterEncodingFilter.java:201) ~[spring-web-6.0.0.jar:6.0.0]</br>    at org.springframework.web.filter.OncePerRequestFilter.doFilter(OncePerRequestFilter.java:116) ~[spring-web-6.0.0.jar:6.0.0]</br>    at org.apache.catalina.core.ApplicationFilterChain.internalDoFilter(ApplicationFilterChain.java:185) ~[tomcat-embed-core-10.1.1.jar:10.1.1]</br>    at org.apache.catalina.core.ApplicationFilterChain.doFilter(ApplicationFilterChain.java:158) ~[tomcat-embed-core-10.1.1.jar:10.1.1]</br>    at org.apache.catalina.core.StandardWrapperValve.invoke(StandardWrapperValve.java:197) ~[tomcat-embed-core-10.1.1.jar:10.1.1]</br>    at org.apache.catalina.core.StandardContextValve.invoke(StandardContextValve.java:97) ~[tomcat-embed-core-10.1.1.jar:10.1.1]</br>    at org.apache.catalina.authenticator.AuthenticatorBase.invoke(AuthenticatorBase.java:542) ~[tomcat-embed-core-10.1.1.jar:10.1.1]</br>    at org.apache.catalina.core.StandardHostValve.invoke(StandardHostValve.java:119) ~[tomcat-embed-core-10.1.1.jar:10.1.1]</br>    at org.apache.catalina.valves.ErrorReportValve.invoke(ErrorReportValve.java:92) ~[tomcat-embed-core-10.1.1.jar:10.1.1]</br>    at org.apache.catalina.core.StandardEngineValve.invoke(StandardEngineValve.java:78) ~[tomcat-embed-core-10.1.1.jar:10.1.1]</br>    at org.apache.catalina.connector.CoyoteAdapter.service(CoyoteAdapter.java:357) ~[tomcat-embed-core-10.1.1.jar:10.1.1]</br>    at org.apache.coyote.http11.Http11Processor.service(Http11Processor.java:400) ~[tomcat-embed-core-10.1.1.jar:10.1.1]</br>    at org.apache.coyote.AbstractProcessorLight.process(AbstractProcessorLight.java:65) ~[tomcat-embed-core-10.1.1.jar:10.1.1]</br>    at org.apache.coyote.AbstractProtocol$ConnectionHandler.process(AbstractProtocol.java:861) ~[tomcat-embed-core-10.1.1.jar:10.1.1]</br>    at org.apache.tomcat.util.net.NioEndpoint$SocketProcessor.doRun(NioEndpoint.java:1739) ~[tomcat-embed-core-10.1.1.jar:10.1.1]</br>    at org.apache.tomcat.util.net.SocketProcessorBase.run(SocketProcessorBase.java:52) ~[tomcat-embed-core-10.1.1.jar:10.1.1]</br>    at org.apache.tomcat.util.threads.ThreadPoolExecutor.runWorker(ThreadPoolExecutor.java:1191) ~[tomcat-embed-core-10.1.1.jar:10.1.1]</br>    at org.apache.tomcat.util.threads.ThreadPoolExecutor$Worker.run(ThreadPoolExecutor.java:659) ~[tomcat-embed-core-10.1.1.jar:10.1.1]</br>    at org.apache.tomcat.util.threads.TaskThread$WrappingRunnable.run(TaskThread.java:61) ~[tomcat-embed-core-10.1.1.jar:10.1.1]</br>    at java.base/java.lang.Thread.run(Thread.java:1589) ~[na:na]</br></br></td>\n",
       "    </tr>\n",
       "  </tbody>\n",
       "</table>\n"
      ],
      "text/plain": [
       "<pandas.io.formats.style.Styler at 0x17c5e1900>"
      ]
     },
     "execution_count": 32,
     "metadata": {},
     "output_type": "execute_result"
    }
   ],
   "source": [
    "#display data\n",
    "df.style.set_properties(**{'text-align':'left'})"
   ]
  }
 ],
 "metadata": {
  "kernelspec": {
   "display_name": "Python 3.10.8 64-bit",
   "language": "python",
   "name": "python3"
  },
  "language_info": {
   "codemirror_mode": {
    "name": "ipython",
    "version": 3
   },
   "file_extension": ".py",
   "mimetype": "text/x-python",
   "name": "python",
   "nbconvert_exporter": "python",
   "pygments_lexer": "ipython3",
   "version": "3.10.8"
  },
  "orig_nbformat": 4,
  "vscode": {
   "interpreter": {
    "hash": "b0fa6594d8f4cbf19f97940f81e996739fb7646882a419484c72d19e05852a7e"
   }
  }
 },
 "nbformat": 4,
 "nbformat_minor": 2
}
